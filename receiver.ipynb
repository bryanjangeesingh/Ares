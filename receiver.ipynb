{
 "cells": [
  {
   "cell_type": "code",
   "execution_count": 64,
   "metadata": {},
   "outputs": [],
   "source": [
    "import socket\n",
    "import pickle\n",
    "from bqplot import pyplot as plt\n",
    "from IPython.display import display\n",
    "import time"
   ]
  },
  {
   "cell_type": "code",
   "execution_count": 70,
   "metadata": {},
   "outputs": [
    {
     "data": {
      "application/vnd.jupyter.widget-view+json": {
       "model_id": "f8af7d871695418fa918f2273fcbd5a8",
       "version_major": 2,
       "version_minor": 0
      },
      "text/plain": [
       "Figure(axes=[Axis(label='Time [ns]', scale=LinearScale(max=200.0, min=0.0)), Axis(label='Voltage', orientation…"
      ]
     },
     "metadata": {},
     "output_type": "display_data"
    },
    {
     "name": "stdout",
     "output_type": "stream",
     "text": [
      "opened port 65432\n",
      "Connected by ('192.168.0.101', 57634)\n"
     ]
    }
   ],
   "source": [
    "n = 8192\n",
    "sample_rate = 4.9152\n",
    "plot_decimate_factor = 1\n",
    "x_data = [ix/sample_rate for ix in range(n)]\n",
    "x_data = x_data[::plot_decimate_factor]\n",
    "fig = plt.figure(title='Live Data from FPGA', animation_duration=0)\n",
    "line = plt.plot([], [])  # Initial empty plot\n",
    "line.x = x_data\n",
    "plt.ylim(-250,250)\n",
    "plt.ylabel('Voltage')\n",
    "plt.xlim(0, 200)  # Initial X-axis range, will update dynamically\n",
    "plt.xlabel(\"Time [ns]\")\n",
    "display(fig)\n",
    "HOST = \"192.168.0.100\"  # Standard loopback interface address (localhost)\n",
    "PORT = 65432  # Port to listen on (non-privileged ports are > 1023)\n",
    "\n",
    "with socket.socket(socket.AF_INET, socket.SOCK_STREAM) as s:\n",
    "    s.bind((HOST, PORT))\n",
    "    s.listen()\n",
    "    print(f'opened port {PORT}')\n",
    "    conn, addr = s.accept()\n",
    "    with conn:\n",
    "        print(f\"Connected by {addr}\")\n",
    "        data = b\"\"\n",
    "        while True:\n",
    "            first_len = conn.recv(1024)\n",
    "            target_len = int.from_bytes(first_len, byteorder='little')\n",
    "            break\n",
    "        prev_rec_time = time.time()\n",
    "        while True:\n",
    "            chunk = conn.recv(1024)\n",
    "\n",
    "            data += chunk\n",
    "            if len(data) == target_len:\n",
    "                rec_time = time.time()\n",
    "                line.y = pickle.loads(data)[::plot_decimate_factor]\n",
    "                if rec_time - prev_rec_time > 3:\n",
    "                    print('Got average')\n",
    "                    print(rec_time - prev_rec_time)\n",
    "                    break\n",
    "                prev_rec_time = rec_time\n",
    "                data = b\"\"\n",
    "            if not chunk:\n",
    "                break\n",
    "        conn.sendall(b\"Data received and processed\")\n"
   ]
  }
 ],
 "metadata": {
  "kernelspec": {
   "display_name": ".venv",
   "language": "python",
   "name": "python3"
  },
  "language_info": {
   "codemirror_mode": {
    "name": "ipython",
    "version": 3
   },
   "file_extension": ".py",
   "mimetype": "text/x-python",
   "name": "python",
   "nbconvert_exporter": "python",
   "pygments_lexer": "ipython3",
   "version": "3.12.3"
  }
 },
 "nbformat": 4,
 "nbformat_minor": 2
}
