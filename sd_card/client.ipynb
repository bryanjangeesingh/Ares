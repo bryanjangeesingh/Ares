{
 "cells": [
  {
   "cell_type": "code",
   "execution_count": 5,
   "id": "53616957",
   "metadata": {},
   "outputs": [],
   "source": [
    "import socket\n",
    "import time \n",
    "import numpy as np\n",
    "import pickle\n",
    "from pynq import PL\n",
    "from pynq import allocate\n",
    "from pynq import Overlay"
   ]
  },
  {
   "cell_type": "code",
   "execution_count": 9,
   "id": "2b79c642",
   "metadata": {},
   "outputs": [],
   "source": [
    "PL.reset()\n",
    "ol = Overlay('./design_1.bit')\n",
    "dma = ol.axi_dma_0"
   ]
  },
  {
   "cell_type": "code",
   "execution_count": 14,
   "id": "1e13a1f2",
   "metadata": {},
   "outputs": [
    {
     "name": "stdout",
     "output_type": "stream",
     "text": [
      "Loop runtime 9.695027112960815\n"
     ]
    }
   ],
   "source": [
    "n = 8192\n",
    "HOST = \"192.168.0.100\"\n",
    "PORT = 65432\n",
    "\n",
    "out_buffer = allocate(n, dtype=np.int32)\n",
    "\n",
    "with socket.socket(socket.AF_INET, socket.SOCK_STREAM) as s:\n",
    "    s.connect((HOST, PORT))\n",
    "    sent_len = False\n",
    "    loop_start = time.time()\n",
    "    for i in range(100):\n",
    "        dma.recvchannel.transfer(out_buffer)\n",
    "        dma.recvchannel.wait()\n",
    "        if not sent_len:\n",
    "            s.sendall(len(pickle.dumps(np.array(out_buffer))).to_bytes(4, 'little'))\n",
    "            sent_len = True\n",
    "        pickled = pickle.dumps(np.array(out_buffer))\n",
    "        for i in range(0, len(pickled), 1024):\n",
    "            s.sendall(pickled[i:i+1024])\n",
    "    s.shutdown(socket.SHUT_WR)\n",
    "    data = s.recv(1024)    \n",
    "\n",
    "    print(\"Loop runtime\", time.time() - loop_start)    \n",
    "\n",
    "out_buffer.close()"
   ]
  },
  {
   "cell_type": "code",
   "execution_count": null,
   "id": "77f9d4e5",
   "metadata": {},
   "outputs": [],
   "source": []
  }
 ],
 "metadata": {
  "kernelspec": {
   "display_name": "Python 3 (ipykernel)",
   "language": "python",
   "name": "python3"
  },
  "language_info": {
   "codemirror_mode": {
    "name": "ipython",
    "version": 3
   },
   "file_extension": ".py",
   "mimetype": "text/x-python",
   "name": "python",
   "nbconvert_exporter": "python",
   "pygments_lexer": "ipython3",
   "version": "3.10.4"
  }
 },
 "nbformat": 4,
 "nbformat_minor": 5
}
